{
 "cells": [
  {
   "cell_type": "markdown",
   "id": "a13c45e9",
   "metadata": {},
   "source": [
    "# PP - P001\n",
    "\n",
    "## Manipulação de variáveis de tipo inteiro, explorando as características e os limites\n",
    "\n",
    "### Operadores aritméticos e aritméticos compostos "
   ]
  },
  {
   "cell_type": "code",
   "execution_count": 3,
   "id": "26a608cd",
   "metadata": {},
   "outputs": [
    {
     "name": "stdout",
     "output_type": "stream",
     "text": [
      "Operadores Aritméticos:\n",
      "Soma: 7\n",
      "Subtração: 3\n",
      "Multiplicação: 10\n",
      "Divisão: 2.5\n",
      "Resto da Divisão: 0\n",
      "Potenciação: 25\n",
      "\n",
      "Operadores Aritméticos Compostos:\n",
      "Novo valor de a: 6\n",
      "Novo valor de b: 1\n"
     ]
    }
   ],
   "source": [
    "# Operadores aritméticos e operadores compostos\n",
    "#Exemplo de operadores aritméticos\n",
    "a = 5\n",
    "b = 2\n",
    "\n",
    "soma = a + b\n",
    "subtracao = a - b\n",
    "multiplicacao = a * b\n",
    "divisao = a / b\n",
    "resto_divisao = a & b\n",
    "potenciacao = a ** b\n",
    "\n",
    "print(\"Operadores Aritméticos:\")\n",
    "print(\"Soma:\", soma)\n",
    "print(\"Subtração:\", subtracao)\n",
    "print(\"Multiplicação:\", multiplicacao)\n",
    "print(\"Divisão:\", divisao)\n",
    "print(\"Resto da Divisão:\", resto_divisao)\n",
    "print(\"Potenciação:\", potenciacao)\n",
    "\n",
    "#Exemplo de operadores aritméticos compostos\n",
    "a += 1 #equivalente a a = a + 1\n",
    "b -= 1 #equivalente a b = b - 1\n",
    "\n",
    "print(\"\\nOperadores Aritméticos Compostos:\")\n",
    "print(\"Novo valor de a:\", a)\n",
    "print(\"Novo valor de b:\", b)"
   ]
  },
  {
   "cell_type": "markdown",
   "id": "fa9a4200",
   "metadata": {},
   "source": [
    "As principais diferenças entre Python e C++ neste contexto são:\n",
    "\n",
    "- Em C++, é necessário especificar explicitamente o tipo de dados das variáveis.\n",
    "- A divisão de inteiros em C++ pode resultar em uma parte fracionária, para garantir que a divisão fosse realizada como uma operação de ponto flutuante teria que ser realizado um cast.   \n",
    "- Para potenciação em C++, é usada a função std::pow."
   ]
  },
  {
   "cell_type": "markdown",
   "id": "0a358e8b",
   "metadata": {},
   "source": [
    "### Representação de números inteiros grandes"
   ]
  },
  {
   "cell_type": "code",
   "execution_count": 6,
   "id": "4b1c60f1",
   "metadata": {},
   "outputs": [
    {
     "name": "stdout",
     "output_type": "stream",
     "text": [
      "Fatorial de 30: 265252859812191058636308480000000\n"
     ]
    }
   ],
   "source": [
    "# Exemplo de cálculo fatorial de 30\n",
    "import math\n",
    "\n",
    "fatorial_30 = math.factorial(30)\n",
    "print(f\"Fatorial de 30: {fatorial_30}\")\n"
   ]
  },
  {
   "cell_type": "markdown",
   "id": "c0377642",
   "metadata": {},
   "source": [
    "Em Python, podemos usar a biblioteca math para calcular o fatorial de 30 usando a função math.factorial. Porém, em C++, não há uma função específica na biblioteca padrão para calcular o fatorial, então usamos um loop para realizar essa operação.\n",
    "\n",
    "O maior valor inteiro representável em C++ é dado por **std::numeric_limits< long long >::max()**. Isso retorna o valor máximo que pode ser armazenado em uma variável do tipo long long no sistema e compilador específicos.\n",
    "\n",
    "Ao executar os dois trechos de código, podemos observar que o fatorial de 30 em Python é um número significativamente maior do que o maior valor inteiro representável em C++. Isso ressalta a capacidade do Python de lidar com inteiros grandes sem preocupações explícitas sobre o tamanho do tipo de dado, enquanto em C++, é necessário escolher um tipo que possa acomodar o resultado desejado.\n",
    "\n",
    "Em resumo, Python facilita a manipulação de inteiros grandes sem a necessidade de escolher tipos de dados específicos, enquanto em C++, é crucial escolher o tipo de dado correto para evitar estouro ou perda de precisão ao lidar com números muito grandes.\n"
   ]
  },
  {
   "cell_type": "markdown",
   "id": "d3ba4854",
   "metadata": {},
   "source": [
    "### Variáveis numéricas imutáveis\n",
    "Em Python, as variáveis numéricas são imutáveis, o que significa que não podem ser alteradas após a atribuição inicial. "
   ]
  },
  {
   "cell_type": "code",
   "execution_count": 9,
   "id": "c2950c00",
   "metadata": {},
   "outputs": [
    {
     "name": "stdout",
     "output_type": "stream",
     "text": [
      "Valor de a: 21\n",
      "Valor de b: 5\n"
     ]
    }
   ],
   "source": [
    "# Exemplo de imutabilidade em variáveis numéricas\n",
    "a = 5\n",
    "b = a  # b recebe o valor atual de a\n",
    "\n",
    "# Operações que parecem modificar a, na verdade, criam uma nova variável\n",
    "a += 2  # cria uma nova variável com o valor 7\n",
    "a *= 3  # cria uma nova variável com o valor 21\n",
    "\n",
    "# Exibindo os valores de a e b\n",
    "print(\"Valor de a:\", a)  # Saída: 21\n",
    "print(\"Valor de b:\", b)  # Saída: 5 (b não foi alterado pelas operações em a)\n"
   ]
  },
  {
   "cell_type": "markdown",
   "id": "800308da",
   "metadata": {},
   "source": [
    "Cada operação que modifica uma variável numérica cria uma nova variável, o que pode resultar em um uso adicional de memória. Se desejar reatribuir um novo valor a uma variável, você pode simplesmente fazer uma nova atribuição, mas a variável original não será modificada. Isso tem implicações em estruturas de controle de fluxo, como loops, onde pode ser necessário ter cuidado ao modificar variáveis numéricas dentro de um loop."
   ]
  },
  {
   "cell_type": "markdown",
   "id": "d7911061",
   "metadata": {},
   "source": [
    "### Métodos disponíveis para variáveis inteiras\n",
    "Em Python, as variáveis inteiras (do tipo int) são objetos e, portanto, têm métodos associados a elas. Aqui estão alguns dos métodos mais comuns disponíveis para variáveis inteiras:"
   ]
  },
  {
   "cell_type": "code",
   "execution_count": 12,
   "id": "eb722e68",
   "metadata": {},
   "outputs": [
    {
     "name": "stdout",
     "output_type": "stream",
     "text": [
      "6\n"
     ]
    }
   ],
   "source": [
    "x = 42\n",
    "print(x.bit_length())\n",
    "# Retorna o número mínimo de bits necessários para representar x em binário."
   ]
  },
  {
   "cell_type": "code",
   "execution_count": 15,
   "id": "28545b3c",
   "metadata": {},
   "outputs": [
    {
     "name": "stdout",
     "output_type": "stream",
     "text": [
      "b'09'\n"
     ]
    }
   ],
   "source": [
    "x = 12345\n",
    "print(x.to_bytes(2, byteorder='big')) \n",
    "# Retorna a representação de x como bytes.\n"
   ]
  },
  {
   "cell_type": "code",
   "execution_count": 17,
   "id": "53b77f48",
   "metadata": {},
   "outputs": [
    {
     "name": "stdout",
     "output_type": "stream",
     "text": [
      "12345\n"
     ]
    }
   ],
   "source": [
    "bytes_data = b'09'\n",
    "integer_value = int.from_bytes(bytes_data, byteorder='big')\n",
    "print(integer_value) \n",
    "\n",
    "# Converte uma sequência de bytes de volta para um número inteiro."
   ]
  }
 ],
 "metadata": {
  "kernelspec": {
   "display_name": "Python 3 (ipykernel)",
   "language": "python",
   "name": "python3"
  },
  "language_info": {
   "codemirror_mode": {
    "name": "ipython",
    "version": 3
   },
   "file_extension": ".py",
   "mimetype": "text/x-python",
   "name": "python",
   "nbconvert_exporter": "python",
   "pygments_lexer": "ipython3",
   "version": "3.11.5"
  }
 },
 "nbformat": 4,
 "nbformat_minor": 5
}
