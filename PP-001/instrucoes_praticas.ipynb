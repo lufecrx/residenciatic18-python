{
 "cells": [
  {
   "cell_type": "markdown",
   "id": "a13c45e9",
   "metadata": {},
   "source": [
    "# PP - P001\n",
    "\n",
    "## 1. Manipulação de variáveis de tipo inteiro, explorando as características e os limites.\n",
    "\n",
    "### Operadores aritméticos e aritméticos compostos:"
   ]
  },
  {
   "cell_type": "code",
   "execution_count": 3,
   "id": "26a608cd",
   "metadata": {},
   "outputs": [
    {
     "name": "stdout",
     "output_type": "stream",
     "text": [
      "Operadores Aritméticos:\n",
      "Soma: 7\n",
      "Subtração: 3\n",
      "Multiplicação: 10\n",
      "Divisão: 2.5\n",
      "Resto da Divisão: 0\n",
      "Potenciação: 25\n",
      "\n",
      "Operadores Aritméticos Compostos:\n",
      "Novo valor de a: 6\n",
      "Novo valor de b: 1\n"
     ]
    }
   ],
   "source": [
    "# Operadores aritméticos e operadores compostos\n",
    "#Exemplo de operadores aritméticos\n",
    "a = 5\n",
    "b = 2\n",
    "\n",
    "soma = a + b\n",
    "subtracao = a - b\n",
    "multiplicacao = a * b\n",
    "divisao = a / b\n",
    "resto_divisao = a & b\n",
    "potenciacao = a ** b\n",
    "\n",
    "print(\"Operadores Aritméticos:\")\n",
    "print(\"Soma:\", soma)\n",
    "print(\"Subtração:\", subtracao)\n",
    "print(\"Multiplicação:\", multiplicacao)\n",
    "print(\"Divisão:\", divisao)\n",
    "print(\"Resto da Divisão:\", resto_divisao)\n",
    "print(\"Potenciação:\", potenciacao)\n",
    "\n",
    "#Exemplo de operadores aritméticos compostos\n",
    "a += 1 #equivalente a a = a + 1\n",
    "b -= 1 #equivalente a b = b - 1\n",
    "\n",
    "print(\"\\nOperadores Aritméticos Compostos:\")\n",
    "print(\"Novo valor de a:\", a)\n",
    "print(\"Novo valor de b:\", b)"
   ]
  },
  {
   "cell_type": "markdown",
   "id": "fa9a4200",
   "metadata": {},
   "source": [
    "As principais diferenças entre Python e C++ neste contexto são:\n",
    "\n",
    "- Em C++, é necessário especificar explicitamente o tipo de dados das variáveis.\n",
    "- A divisão de inteiros em C++ pode resultar em uma parte fracionária, para garantir que a divisão fosse realizada como uma operação de ponto flutuante teria que ser realizado um cast.   \n",
    "- Para potenciação em C++, é usada a função std::pow."
   ]
  },
  {
   "cell_type": "markdown",
   "id": "0a358e8b",
   "metadata": {},
   "source": [
    "### Representação de números inteiros grandes:"
   ]
  },
  {
   "cell_type": "code",
   "execution_count": 6,
   "id": "4b1c60f1",
   "metadata": {},
   "outputs": [
    {
     "name": "stdout",
     "output_type": "stream",
     "text": [
      "Fatorial de 30: 265252859812191058636308480000000\n"
     ]
    }
   ],
   "source": [
    "# Exemplo de cálculo fatorial de 30\n",
    "import math\n",
    "\n",
    "fatorial_30 = math.factorial(30)\n",
    "print(f\"Fatorial de 30: {fatorial_30}\")\n"
   ]
  },
  {
   "cell_type": "markdown",
   "id": "c0377642",
   "metadata": {},
   "source": [
    "Em Python, podemos usar a biblioteca math para calcular o fatorial de 30 usando a função math.factorial. Porém, em C++, não há uma função específica na biblioteca padrão para calcular o fatorial, então usamos um loop para realizar essa operação.\n",
    "\n",
    "O maior valor inteiro representável em C++ é dado por **std::numeric_limits< long long >::max()**. Isso retorna o valor máximo que pode ser armazenado em uma variável do tipo long long no sistema e compilador específicos.\n",
    "\n",
    "Ao executar os dois trechos de código, podemos observar que o fatorial de 30 em Python é um número significativamente maior do que o maior valor inteiro representável em C++. Isso ressalta a capacidade do Python de lidar com inteiros grandes sem preocupações explícitas sobre o tamanho do tipo de dado, enquanto em C++, é necessário escolher um tipo que possa acomodar o resultado desejado.\n",
    "\n",
    "Em resumo, Python facilita a manipulação de inteiros grandes sem a necessidade de escolher tipos de dados específicos, enquanto em C++, é crucial escolher o tipo de dado correto para evitar estouro ou perda de precisão ao lidar com números muito grandes.\n"
   ]
  },
  {
   "cell_type": "markdown",
   "id": "d3ba4854",
   "metadata": {},
   "source": [
    "### Variáveis numéricas imutáveis:\n",
    "Em Python, as variáveis numéricas são imutáveis, o que significa que não podem ser alteradas após a atribuição inicial. "
   ]
  },
  {
   "cell_type": "code",
   "execution_count": 9,
   "id": "c2950c00",
   "metadata": {},
   "outputs": [
    {
     "name": "stdout",
     "output_type": "stream",
     "text": [
      "Valor de a: 21\n",
      "Valor de b: 5\n"
     ]
    }
   ],
   "source": [
    "# Exemplo de imutabilidade em variáveis numéricas\n",
    "a = 5\n",
    "b = a  # b recebe o valor atual de a\n",
    "\n",
    "# Operações que parecem modificar a, na verdade, criam uma nova variável\n",
    "a += 2  # cria uma nova variável com o valor 7\n",
    "a *= 3  # cria uma nova variável com o valor 21\n",
    "\n",
    "# Exibindo os valores de a e b\n",
    "print(\"Valor de a:\", a)  # Saída: 21\n",
    "print(\"Valor de b:\", b)  # Saída: 5 (b não foi alterado pelas operações em a)\n"
   ]
  },
  {
   "cell_type": "markdown",
   "id": "800308da",
   "metadata": {},
   "source": [
    "Cada operação que modifica uma variável numérica cria uma nova variável, o que pode resultar em um uso adicional de memória. Se desejar reatribuir um novo valor a uma variável, você pode simplesmente fazer uma nova atribuição, mas a variável original não será modificada. Isso tem implicações em estruturas de controle de fluxo, como loops, onde pode ser necessário ter cuidado ao modificar variáveis numéricas dentro de um loop."
   ]
  },
  {
   "cell_type": "markdown",
   "id": "d7911061",
   "metadata": {},
   "source": [
    "### Métodos disponíveis para variáveis inteiras:\n",
    "Em Python, as variáveis inteiras (do tipo int) são objetos e, portanto, têm métodos associados a elas. Aqui estão alguns dos métodos mais comuns disponíveis para variáveis inteiras:"
   ]
  },
  {
   "cell_type": "code",
   "execution_count": 12,
   "id": "eb722e68",
   "metadata": {},
   "outputs": [
    {
     "name": "stdout",
     "output_type": "stream",
     "text": [
      "6\n"
     ]
    }
   ],
   "source": [
    "x = 42\n",
    "print(x.bit_length())\n",
    "# Retorna o número mínimo de bits necessários para representar x em binário."
   ]
  },
  {
   "cell_type": "code",
   "execution_count": 15,
   "id": "28545b3c",
   "metadata": {},
   "outputs": [
    {
     "name": "stdout",
     "output_type": "stream",
     "text": [
      "b'09'\n"
     ]
    }
   ],
   "source": [
    "x = 12345\n",
    "print(x.to_bytes(2, byteorder='big')) \n",
    "# Retorna a representação de x como bytes.\n"
   ]
  },
  {
   "cell_type": "code",
   "execution_count": 17,
   "id": "53b77f48",
   "metadata": {},
   "outputs": [
    {
     "name": "stdout",
     "output_type": "stream",
     "text": [
      "12345\n"
     ]
    }
   ],
   "source": [
    "bytes_data = b'09'\n",
    "integer_value = int.from_bytes(bytes_data, byteorder='big')\n",
    "print(integer_value) \n",
    "\n",
    "# Converte uma sequência de bytes de volta para um número inteiro."
   ]
  },
  {
   "cell_type": "markdown",
   "id": "3e68a1f0",
   "metadata": {},
   "source": [
    "## 2. Manipulação de variáveis de tipo string e explorando o uso de print.\n",
    "\n",
    "Imprimindo na tela, utilizando print, cada um dos caracteres numéricos e seu correspondente código:"
   ]
  },
  {
   "cell_type": "code",
   "execution_count": 1,
   "id": "c1c9eb41",
   "metadata": {
    "scrolled": true
   },
   "outputs": [
    {
     "name": "stdout",
     "output_type": "stream",
     "text": [
      "'0' - 48\n",
      "'1' - 49\n",
      "'2' - 50\n",
      "'3' - 51\n",
      "'4' - 52\n",
      "'5' - 53\n",
      "'6' - 54\n",
      "'7' - 55\n",
      "'8' - 56\n",
      "'9' - 57\n"
     ]
    }
   ],
   "source": [
    "for i in range(10):\n",
    "    caractere = chr(ord('0') + i)\n",
    "    codigo_numerico = ord(caractere)\n",
    "\n",
    "    print(f\"'{caractere}' - {codigo_numerico}\")\n"
   ]
  },
  {
   "cell_type": "markdown",
   "id": "7151cf98",
   "metadata": {},
   "source": [
    "Este programa utiliza um loop for para iterar de 0 a 9, obtendo o caractere correspondente e seu valor ASCII. Podemos aprimorar o código anterior para que a saída imprima também o código numérico em octal e em hexadecimal, dessa forma:"
   ]
  },
  {
   "cell_type": "code",
   "execution_count": null,
   "id": "1b84e1fd",
   "metadata": {},
   "outputs": [],
   "source": [
    "for i in range(10):\n",
    "    caractere = chr(ord('0') + i)\n",
    "    codigo_numerico = ord(caractere)\n",
    "    codigo_octal = oct(codigo_numerico)\n",
    "    codigo_hexadecimal = hex(codigo_numerico)\n",
    "\n",
    "    print(f\"'{caractere}' - {codigo_numerico} - {codigo_octal} - {codigo_hexadecimal}\")\n"
   ]
  },
  {
   "cell_type": "markdown",
   "id": "ac657536",
   "metadata": {},
   "source": [
    "Neste código, oct() é usado para obter a representação em octal e hex() é usado para obter a representação em hexadecimal. A saída agora incluirá o código numérico, o código octal e o código hexadecimal para cada caractere numérico."
   ]
  },
  {
   "cell_type": "markdown",
   "id": "456f1ebb",
   "metadata": {},
   "source": [
    "Se quisermos acrescenter a possibilidade de ler um caractere qualquer e na saída imprimir as informações do código anterior, podemos utilizar a função input() e acessar o primeiro caractere da string resultante, dessa forma:"
   ]
  },
  {
   "cell_type": "code",
   "execution_count": 5,
   "id": "5c326ecc",
   "metadata": {
    "scrolled": true
   },
   "outputs": [
    {
     "name": "stdout",
     "output_type": "stream",
     "text": [
      "Digite um caractere: ç\n",
      "'ç' - 231 - 0o347 - 0xe7\n"
     ]
    }
   ],
   "source": [
    "# Leitura do caractere da entrada padrão\n",
    "caractere_lido = input(\"Digite um caractere: \")[0]\n",
    "\n",
    "# Obtém as representações numéricas\n",
    "codigo_numerico = ord(caractere_lido)\n",
    "codigo_octal = oct(codigo_numerico)\n",
    "codigo_hexadecimal = hex(codigo_numerico)\n",
    "\n",
    "# Imprime o caractere e suas representações numéricas, octal e hexadecimal\n",
    "print(f\"'{caractere_lido}' - {codigo_numerico} - {codigo_octal} - {codigo_hexadecimal}\")\n"
   ]
  },
  {
   "cell_type": "markdown",
   "id": "dc37b1dc",
   "metadata": {},
   "source": [
    "Neste código, input() é usado para receber uma entrada do usuário, e [0] é utilizado para obter o primeiro caractere dessa entrada. Em seguida, o programa calcula as representações numéricas, octal e hexadecimal e imprime na tela no formato desejado."
   ]
  },
  {
   "cell_type": "markdown",
   "id": "d7224ee7",
   "metadata": {},
   "source": [
    "Para caracteres especiais, como 'ç' e 'ã', deve ser usada uma codificação que suporte esses caracteres, como UTF-8. Em Python, isso pode ser especificado utilizando um comentário especial para indicar ao interpretador Python que o arquivo está codificado em UTF-8:"
   ]
  },
  {
   "cell_type": "code",
   "execution_count": 10,
   "id": "6c29b4fc",
   "metadata": {
    "scrolled": true
   },
   "outputs": [
    {
     "name": "stdout",
     "output_type": "stream",
     "text": [
      "'ç' - 231 - 0o347 - 0xe7\n",
      "'ã' - 227 - 0o343 - 0xe3\n"
     ]
    }
   ],
   "source": [
    "# -*- coding: utf-8 -*-\n",
    "\n",
    "caractere_especial01 = \"ç\"\n",
    "caractere_especial02 = \"ã\"\n",
    "\n",
    "# Obtém as representações numéricas\n",
    "codigo_numerico01 = ord(caractere_especial01)\n",
    "codigo_octal01 = oct(codigo_numerico01)\n",
    "codigo_hexadecimal01 = hex(codigo_numerico01)\n",
    "\n",
    "codigo_numerico02 = ord(caractere_especial02)\n",
    "codigo_octal02 = oct(codigo_numerico02)\n",
    "codigo_hexadecimal02 = hex(codigo_numerico02)\n",
    "\n",
    "# Imprime o caractere e suas representações numéricas, octal e hexadecimal\n",
    "print(f\"'{caractere_especial01}' - {codigo_numerico01} - {codigo_octal01} - {codigo_hexadecimal01}\")\n",
    "\n",
    "print(f\"'{caractere_especial02}' - {codigo_numerico02} - {codigo_octal02} - {codigo_hexadecimal02}\")\n"
   ]
  },
  {
   "cell_type": "markdown",
   "id": "1c919a21",
   "metadata": {},
   "source": [
    "## 3. Manipulação de variáveis de tipo string e explorando os métodos da classe."
   ]
  },
  {
   "cell_type": "code",
   "execution_count": 1,
   "id": "63b07055",
   "metadata": {},
   "outputs": [
    {
     "name": "stdout",
     "output_type": "stream",
     "text": [
      "Escreva seu nome completo: Luiz Felipe Gomes\n",
      "Nome: Luiz Felipe\n",
      "Sobrenome: Gomes\n",
      "A ordem alfabética é: Gomes Luiz Felipe\n",
      "Quantidade de caracteres no nome: 11\n",
      "Quantidade de caracteres no sobrenome: 5\n",
      "Seu nome é um palíndromo? False\n"
     ]
    }
   ],
   "source": [
    "# Declare uma variável nome atribuindo a ela seu nome completo\n",
    "nome_completo = input(\"Escreva seu nome completo: \")\n",
    "\n",
    "# Pesquise por funcionalidades já implementadas nas strings e separe em duas variáveis novas seu nome do seu sobrenome\n",
    "\n",
    "# (Assumindo que o sobrenome é a última palavra no nome completo)\n",
    "indice_espaco = nome_completo.rfind(\" \")  # Encontrar o último espaço na string\n",
    "nome = nome_completo[:indice_espaco]  # Pegar o nome (do início até o último espaço)\n",
    "sobrenome = nome_completo[indice_espaco + 1:]  # Pegar o sobrenome (do último espaço até o final)\n",
    "\n",
    "# Verifique qual das duas novas variáveis antecede a outra na ordem alfabética\n",
    "ordem_alfabetica = sorted([nome, sobrenome])\n",
    "primeira_variavel_alfabetica = ordem_alfabetica[0]\n",
    "segunda_variavel_alfabetica = ordem_alfabetica[1]\n",
    "\n",
    "# Verifique a quantidade de caracteres de cada uma das novas variáveis\n",
    "tamanho_nome = len(nome)\n",
    "tamanho_sobrenome = len(sobrenome)\n",
    "\n",
    "# Verifique se seu nome é uma palíndromo\n",
    "nome_eh_palindromo = nome == nome[::-1]\n",
    "\n",
    "# Imprima os resultados\n",
    "print(\"Nome:\", nome)\n",
    "print(\"Sobrenome:\", sobrenome)\n",
    "print(\"A ordem alfabética é:\", primeira_variavel_alfabetica, segunda_variavel_alfabetica)\n",
    "print(\"Quantidade de caracteres no nome:\", tamanho_nome)\n",
    "print(\"Quantidade de caracteres no sobrenome:\", tamanho_sobrenome)\n",
    "print(\"Seu nome é um palíndromo?\", nome_eh_palindromo)\n"
   ]
  },
  {
   "cell_type": "markdown",
   "id": "b9b303d2",
   "metadata": {},
   "source": [
    "## 4. Manipulação de variáveis de ponto flutuante, explorando as características e os limites."
   ]
  },
  {
   "cell_type": "markdown",
   "id": "c39d621e",
   "metadata": {},
   "source": [
    "Em Python, os operadores aritméticos básicos são os mesmos para variáveis de ponto flutuante, assim como para outros tipos numéricos. Aqui estão alguns exemplos:"
   ]
  },
  {
   "cell_type": "code",
   "execution_count": 2,
   "id": "17a69c62",
   "metadata": {},
   "outputs": [
    {
     "name": "stdout",
     "output_type": "stream",
     "text": [
      "Soma: 7.0\n",
      "Subtração: 3.0\n",
      "Multiplicação: 10.0\n",
      "Divisão: 2.5\n",
      "Resultado após operadores aritméticos compostos: 5.0\n"
     ]
    }
   ],
   "source": [
    "# Operadores aritméticos\n",
    "a = 5.0\n",
    "b = 2.0\n",
    "\n",
    "soma = a + b\n",
    "subtracao = a - b\n",
    "multiplicacao = a * b\n",
    "divisao = a / b\n",
    "\n",
    "# Operadores aritméticos compostos\n",
    "a += b  # Equivalente a: a = a + b\n",
    "a -= b  # Equivalente a: a = a - b\n",
    "a *= b  # Equivalente a: a = a * b\n",
    "a /= b  # Equivalente a: a = a / b\n",
    "\n",
    "# Impressão da saída\n",
    "print(\"Soma:\", soma)\n",
    "print(\"Subtração:\", subtracao)\n",
    "print(\"Multiplicação:\", multiplicacao)\n",
    "print(\"Divisão:\", divisao)\n",
    "print(\"Resultado após operadores aritméticos compostos:\", a)"
   ]
  },
  {
   "cell_type": "markdown",
   "id": "2d22f936",
   "metadata": {},
   "source": [
    "Os números de ponto flutuante em Python (e em muitas outras linguagens de programação) são representados seguindo o padrão IEEE 754. Esse padrão define uma representação binária para números reais, incluindo a representação de números muito grandes e muito pequenos usando notação exponencial.\n",
    "\n",
    "A maior potência de 2 que pode ser representada é determinada pelo expoente máximo que um número de ponto flutuante pode ter. No padrão IEEE 754 de precisão dupla (usado para `float` em Python), o expoente máximo é 1023. Isso significa que a maior potência de 2 representável é `2.0 ** 1023`.\n",
    "\n",
    "Da mesma forma, o expoente mínimo é usado para representar números muito pequenos. No padrão IEEE 754, o expoente mínimo é -1022. Isso significa que a menor potência de 2 representável (próxima de zero) é `2.0 ** -1022`.\n",
    "\n",
    "Vamos imprimir os resultados para ter uma ideia mais clara:"
   ]
  },
  {
   "cell_type": "code",
   "execution_count": 3,
   "id": "38cd02d3",
   "metadata": {},
   "outputs": [
    {
     "name": "stdout",
     "output_type": "stream",
     "text": [
      "Maior potência de 2 representável: 8.98846567431158e+307\n",
      "Menor potência de 2 representável: 2.2250738585072014e-308\n"
     ]
    }
   ],
   "source": [
    "# Maior potência de 2 representável\n",
    "maior_potencia = 2.0 ** 1023\n",
    "\n",
    "# Menor potência de 2 representável\n",
    "menor_potencia = 2.0 ** -1022\n",
    "\n",
    "print(\"Maior potência de 2 representável:\", maior_potencia)\n",
    "print(\"Menor potência de 2 representável:\", menor_potencia)"
   ]
  },
  {
   "cell_type": "markdown",
   "id": "cc89148d",
   "metadata": {},
   "source": [
    "Quando você executar este código, verá os valores associados à maior e à menor potência de 2 representáveis em uma variável de ponto flutuante em Python. Esses valores são enormes e muito pequenos, respectivamente, e mostram os limites do que pode ser representado com precisão finita usando números de ponto flutuante."
   ]
  },
  {
   "cell_type": "markdown",
   "id": "b3a982d3",
   "metadata": {},
   "source": [
    "Outra característica importante que já foi citada anteriormente sobre as variáveis numéricas, incluindo as variáveis de números de ponto flutuante, é que em Python, elas são imutáveis. Isso significa que uma vez que um valor é atribuído a uma variável, esse valor não pode ser alterado. No entanto, se você deseja realizar operações e armazenar o resultado, você cria uma nova variável."
   ]
  },
  {
   "cell_type": "code",
   "execution_count": 6,
   "id": "be6ced7f",
   "metadata": {},
   "outputs": [
    {
     "name": "stdout",
     "output_type": "stream",
     "text": [
      "num1: 15.0\n",
      "num2: 10.0\n"
     ]
    }
   ],
   "source": [
    "# Exemplo de imutabilidade de variáveis numéricas\n",
    "num1 = 10.0\n",
    "num2 = num1  # Criando uma nova referência para o mesmo valor\n",
    "\n",
    "# Tentativa de modificação\n",
    "# Isso resultará em um novo objeto, não modificará o valor original\n",
    "num1 += 5.0\n",
    "\n",
    "# Imprimindo os valores\n",
    "print(\"num1:\", num1)  # Imprimirá o novo valor de num1 (15.0)\n",
    "print(\"num2:\", num2)  # Imprimirá o valor original de num1 (10.0)\n"
   ]
  },
  {
   "cell_type": "markdown",
   "id": "5bdff289",
   "metadata": {},
   "source": [
    "As variáveis de ponto flutuante também têm vários métodos associados a elas. Alguns dos métodos incluem:"
   ]
  },
  {
   "cell_type": "code",
   "execution_count": 10,
   "id": "0008d4f9",
   "metadata": {},
   "outputs": [
    {
     "name": "stdout",
     "output_type": "stream",
     "text": [
      "num: 3.14\n",
      "round(num): 3\n",
      "str(num): 3.14\n",
      "abs(num): 3.14\n",
      "int(num): 3\n"
     ]
    }
   ],
   "source": [
    "num = 3.14\n",
    "print(\"num: \" + str(num))\n",
    "\n",
    "# Método para arredondar para o número inteiro mais próximo\n",
    "rounded_num = round(num)\n",
    "print(\"round(num): \" + str(rounded_num))\n",
    "\n",
    "# Método para converter o número para uma string\n",
    "num_str = str(num)\n",
    "print(\"str(num): \" + num_str)\n",
    "\n",
    "# Método para obter o valor absoluto\n",
    "abs_num = abs(num)\n",
    "print(\"abs(num): \" + str(abs_num))\n",
    "\n",
    "# Método para converter para inteiro\n",
    "int_num = int(num)\n",
    "print(\"int(num): \" + str(int_num))\n"
   ]
  },
  {
   "cell_type": "markdown",
   "id": "822733f3",
   "metadata": {},
   "source": [
    "Estes são apenas alguns exemplos, e há mais métodos disponíveis. Você pode explorar outros métodos usando a documentação oficial do Python."
   ]
  },
  {
   "cell_type": "markdown",
   "id": "09c40409",
   "metadata": {},
   "source": [
    "## 5. Manipulando listas.\n",
    "Para demonstrar a manipulação de listas em Python, vamos analisar o que é impresso em cada caso do seguinte código:\n"
   ]
  },
  {
   "cell_type": "code",
   "execution_count": 12,
   "id": "90d294f7",
   "metadata": {},
   "outputs": [
    {
     "name": "stdout",
     "output_type": "stream",
     "text": [
      "[1, 2, 3, 4, 5, 6, 7, 8, 9]\n",
      "[9]\n",
      "[1, 2, 3, 4, 5, 6, 7, 8]\n",
      "[9, 7, 5, 3, 1]\n",
      "[8, 9]\n",
      "[1, 2, 3, 4, 5, 6, 7]\n"
     ]
    }
   ],
   "source": [
    "L = [1,2,3,4,5,6,7,8,9]\n",
    "\n",
    "print(L[::1])\n",
    "print(L[-1::])\n",
    "print(L[:-1:])\n",
    "print(L[::-2])\n",
    "print(L[-2::])\n",
    "print(L[:-2:])\n"
   ]
  },
  {
   "cell_type": "markdown",
   "id": "2042a5ef",
   "metadata": {},
   "source": [
    "Vamos analisar cada linha do código e explicar o que está acontecendo em termos de manipulação de listas em Python:\n",
    "\n",
    "1. `print(L[::1])`: Aqui, você está utilizando a notação de slicing para criar uma cópia da lista `L` com um passo de 1. O resultado é toda a lista `[1, 2, 3, 4, 5, 6, 7, 8, 9]`.\n",
    "\n",
    "2. `print(L[-1::])`: Usando um índice negativo, você está começando a partir do último elemento da lista. O resultado é uma lista contendo apenas o último elemento, ou seja, `[9]`.\n",
    "\n",
    "3. `print(L[:-1:])`: Esta linha imprime a lista até o penúltimo elemento, excluindo o último. O resultado é `[1, 2, 3, 4, 5, 6, 7, 8]`.\n",
    "\n",
    "4. `print(L[::-2])`: Aqui, você está utilizando um passo negativo (-2), o que inverte a lista e pega cada segundo elemento. O resultado é `[9, 7, 5, 3, 1]`.\n",
    "\n",
    "5. `print(L[-2::])`: Semelhante à segunda linha, mas começando do penúltimo elemento. O resultado é uma lista contendo os dois últimos elementos, ou seja, `[8, 9]`.\n",
    "\n",
    "6. `print(L[:-2:])`: Esta linha imprime a lista até o antepenúltimo elemento, excluindo os dois últimos. O resultado é `[1, 2, 3, 4, 5, 6, 7]`.\n",
    "\n",
    "Em resumo, as operações de slicing permitem que você acesse partes específicas de uma lista com base em índices e passos, proporcionando flexibilidade na manipulação de listas em Python. O uso de índices negativos indica a contagem a partir do final da lista."
   ]
  },
  {
   "cell_type": "markdown",
   "id": "8520dfae",
   "metadata": {},
   "source": [
    "## Qual seu animal no zodíaco chinês?"
   ]
  },
  {
   "cell_type": "code",
   "execution_count": null,
   "id": "e2ab80c1",
   "metadata": {
    "scrolled": true
   },
   "outputs": [],
   "source": [
    "ano_de_nascimento = int(input(\"Digite o seu ano de nascimento: \"))\n",
    "\n",
    "zodiaco = ano_de_nascimento % 12\n",
    "\n",
    "print(\"Seu animal do zodíaco:\")\n",
    "\n",
    "if zodiaco == 0:\n",
    "    print(\"Macaco\")\n",
    "elif zodiaco == 1:\n",
    "    print(\"Galo\")\n",
    "elif zodiaco == 2:\n",
    "    print(\"Cão\")\n",
    "elif zodiaco == 3:\n",
    "    print(\"Porco\")\n",
    "elif zodiaco == 4:\n",
    "    print(\"Rato\")\n",
    "elif zodiaco == 5:\n",
    "    print(\"Boi\")\n",
    "elif zodiaco == 6:\n",
    "    print(\"Tigre\")\n",
    "elif zodiaco == 7:\n",
    "    print(\"Coelho\")\n",
    "elif zodiaco == 8:\n",
    "    print(\"Dragão\")\n",
    "elif zodiaco == 9:\n",
    "    print(\"Serpente\")\n",
    "elif zodiaco == 10:\n",
    "    print(\"Cavalo\")\n",
    "elif zodiaco == 11:\n",
    "    print(\"Cabra\")\n",
    "else:\n",
    "    print(\"Ano de nascimento inválido\")"
   ]
  },
  {
   "cell_type": "markdown",
   "id": "f5125edb",
   "metadata": {},
   "source": [
    "## Fim\n",
    "Para mais informações sobre Python, acesse a documentação oficial. "
   ]
  }
 ],
 "metadata": {
  "kernelspec": {
   "display_name": "Python 3 (ipykernel)",
   "language": "python",
   "name": "python3"
  },
  "language_info": {
   "codemirror_mode": {
    "name": "ipython",
    "version": 3
   },
   "file_extension": ".py",
   "mimetype": "text/x-python",
   "name": "python",
   "nbconvert_exporter": "python",
   "pygments_lexer": "ipython3",
   "version": "3.11.5"
  }
 },
 "nbformat": 4,
 "nbformat_minor": 5
}
